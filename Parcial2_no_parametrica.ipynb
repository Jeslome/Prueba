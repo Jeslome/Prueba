{
  "cells": [
    {
      "cell_type": "markdown",
      "metadata": {
        "id": "view-in-github",
        "colab_type": "text"
      },
      "source": [
        "<a href=\"https://colab.research.google.com/github/Jeslome/Prueba/blob/main/Parcial2_no_parametrica.ipynb\" target=\"_parent\"><img src=\"https://colab.research.google.com/assets/colab-badge.svg\" alt=\"Open In Colab\"/></a>"
      ]
    },
    {
      "cell_type": "markdown",
      "id": "69fdfc04-f0d5-42ca-99bb-c50db31aed55",
      "metadata": {
        "id": "69fdfc04-f0d5-42ca-99bb-c50db31aed55"
      },
      "source": [
        "# Parcial 2 (Impar) Estadísitica No paramétrica. Profesor Ramón Giraldo. 2023."
      ]
    },
    {
      "cell_type": "markdown",
      "id": "e46af10b-1ee1-4731-8c1b-8b063a1df9fb",
      "metadata": {
        "id": "e46af10b-1ee1-4731-8c1b-8b063a1df9fb"
      },
      "source": [
        "## Estudiante Jessica López Mejía **Código** 1032453305"
      ]
    },
    {
      "cell_type": "markdown",
      "id": "ff40d307-dcb7-4d2f-8c0e-e79d14695544",
      "metadata": {
        "id": "ff40d307-dcb7-4d2f-8c0e-e79d14695544"
      },
      "source": [
        "**1** Simule $n$ cantidad de datos de$ X \\sim N(\\mu, \\sigma)$ usando el siguiente código en R (aunque se utilizará código Python dada las indicaciones del profesor)."
      ]
    },
    {
      "cell_type": "markdown",
      "id": "282d1b3a-719a-4422-a48a-d4451847c910",
      "metadata": {
        "id": "282d1b3a-719a-4422-a48a-d4451847c910"
      },
      "source": [
        "**Solución**"
      ]
    },
    {
      "cell_type": "markdown",
      "id": "12d22af9-2816-44ed-8db2-72869c2566cf",
      "metadata": {
        "id": "12d22af9-2816-44ed-8db2-72869c2566cf"
      },
      "source": [
        "Para nuestro caso tomarenos:\n",
        "$$n=100$$\n",
        "$$\\mu=8$$\n",
        "$$\\sigma=2$$\n",
        "$$semilla=1114$$"
      ]
    },
    {
      "cell_type": "code",
      "execution_count": null,
      "id": "ce4ca14f-e0b7-4f9b-b899-a6ccd6d3fbe6",
      "metadata": {
        "id": "ce4ca14f-e0b7-4f9b-b899-a6ccd6d3fbe6",
        "outputId": "dd7f37f0-96c0-4b84-cb7d-eba791f6fe0a"
      },
      "outputs": [
        {
          "name": "stdout",
          "output_type": "stream",
          "text": [
            "[ 6.76631704  8.99321124  5.14197691  7.07635299  4.74486378  8.57007156\n",
            "  6.43563549  4.56496241  8.73546     9.55695151  8.0795432   8.32764429\n",
            "  6.45090226  8.49607862  5.92081739  9.22235687  5.32035118  7.94776482\n",
            "  9.23808014  7.93424277  5.97186332  5.00338248  7.26980261  9.05953143\n",
            "  9.51193339  5.31228615 10.48185444  7.92932529  6.32883291  9.80640442\n",
            "  8.18864411  7.4655247   9.12795138  8.03048439  7.05988222  5.42197714\n",
            "  7.45065237  8.14316272  8.91117986  7.4496483   9.22662757  9.63515165\n",
            "  8.56032912  6.65528149  6.90913768  5.55540778 11.34237238  5.42829366\n",
            "  8.25612592  7.39500318  6.13361008 10.2482055   5.48263113  8.17264892\n",
            " 10.06001275  8.62957053  8.32439613  6.17180977  9.17271236 10.37781888\n",
            "  4.02171886  8.34770195  7.2850038   9.75736119  5.92826724 11.18153407\n",
            "  9.97368037  8.11098842  9.86965753  6.7731253   7.64370977  7.08729497\n",
            "  7.55902629  7.53058245  8.2424999  11.0499322   7.52931815  5.66940953\n",
            "  8.56444045  9.80186929  8.79679623  6.59992894  4.11028791  9.37467411\n",
            "  9.51218803  8.47492844  7.05236151  9.00304115  5.38466014  4.50247377\n",
            "  8.07290373  8.65160645  9.2087069   7.81156678  5.40678371 12.62215632\n",
            "  9.00053319  9.3440812   8.46528547 12.87180481]\n"
          ]
        }
      ],
      "source": [
        "import numpy as np\n",
        "np.random.seed(1114)\n",
        "data = np.random.normal(loc=8, scale=2, size=100)\n",
        "print(data)"
      ]
    },
    {
      "cell_type": "markdown",
      "id": "c5b3f43b-4608-497a-8149-ab2e07ea98d1",
      "metadata": {
        "id": "c5b3f43b-4608-497a-8149-ab2e07ea98d1"
      },
      "source": [
        "**a)** El h de la regla de Silverman es:0.648"
      ]
    },
    {
      "cell_type": "code",
      "execution_count": null,
      "id": "8558e8d7-9979-4856-b9e3-aaf6a70b80e3",
      "metadata": {
        "id": "8558e8d7-9979-4856-b9e3-aaf6a70b80e3",
        "outputId": "3a198610-21fb-491c-bd94-6a58907744b6"
      },
      "outputs": [
        {
          "name": "stdout",
          "output_type": "stream",
          "text": [
            "0.6482070495996758\n",
            "0.7667281183284516\n"
          ]
        }
      ],
      "source": [
        "import numpy as np\n",
        "from scipy.stats import iqr, norm\n",
        "\n",
        "np.random.seed(1114)\n",
        "n = 100\n",
        "mu = 8\n",
        "sigma = 2\n",
        "datos = np.random.normal(loc=mu, scale=sigma, size=n)\n",
        "\n",
        "min_datos = np.min(datos)\n",
        "max_datos = np.max(datos)\n",
        "\n",
        "ric = iqr(datos)\n",
        "s = np.std(datos)\n",
        "\n",
        "h = 0.9 * min(s, ric / 1.34) * (n ** (-1 / 5))\n",
        "\n",
        "from statsmodels.nonparametric.kde import KDEUnivariate\n",
        "d = KDEUnivariate(datos)\n",
        "d.fit()\n",
        "bw = d.bw\n",
        "\n",
        "print(h)\n",
        "print(bw)\n"
      ]
    },
    {
      "cell_type": "markdown",
      "id": "d2ed62c6-9531-4aac-b60c-b3ebb306a31d",
      "metadata": {
        "id": "d2ed62c6-9531-4aac-b60c-b3ebb306a31d"
      },
      "source": [
        "La variable h se calcula utilizando la regla empírica de Silverman, que es un método comúnmente utilizado para elegir el ancho de banda de una estimación de densidad de kernel. La fórmula para la regla empírica de Silverman es h=0.9*min(s,ric/1.34)*(n**(-1/5)), donde s es la desviación estándar de los datos, ric es el rango intercuartílico de los datos y n es el número de puntos de datos. Esta fórmula proporciona un buen punto de partida para elegir el ancho de banda, pero no siempre produce los mejores resultados para todos los conjuntos de datos. En la práctica, puede ser necesario ajustar el ancho de banda en función de las características específicas de los datos que se están analizando."
      ]
    },
    {
      "cell_type": "markdown",
      "id": "3048618a-5fcb-45d1-8655-47b40739ed76",
      "metadata": {
        "id": "3048618a-5fcb-45d1-8655-47b40739ed76"
      },
      "source": [
        "**b)** Asumiedo un Kernel Gaussiano $MISE(\\hat{f}_k) =0.0019$"
      ]
    },
    {
      "cell_type": "code",
      "execution_count": null,
      "id": "692459c7-48dc-4fef-b74d-284e78721fea",
      "metadata": {
        "id": "692459c7-48dc-4fef-b74d-284e78721fea",
        "outputId": "c92fb2ee-148d-4cc4-f537-3606fb56c09f"
      },
      "outputs": [
        {
          "name": "stdout",
          "output_type": "stream",
          "text": [
            "0.001925537017068349\n"
          ]
        }
      ],
      "source": [
        "import numpy as np\n",
        "from scipy.integrate import quad\n",
        "from scipy.stats import norm\n",
        "\n",
        "np.random.seed(1114)\n",
        "n = 100\n",
        "mu = 8\n",
        "sigma = 2\n",
        "datos = np.random.normal(loc=mu, scale=sigma, size=n)\n",
        "\n",
        "def f_hat_k(x, datos, h):\n",
        "    n = len(datos)\n",
        "    return (1 / (n * h)) * np.sum(norm.pdf((x - datos) / h))\n",
        "\n",
        "def integrand(x, datos, h):\n",
        "    return (f_hat_k(x, datos, h) - norm.pdf(x, loc=mu, scale=sigma)) ** 2\n",
        "\n",
        "h = 1.06 * np.std(datos) * (n ** (-1 / 5))\n",
        "result = quad(integrand, -np.inf, np.inf, args=(datos, h))[0]\n",
        "\n",
        "print(result)"
      ]
    },
    {
      "cell_type": "markdown",
      "id": "54b08262-e08d-4457-ad12-a2a01d641bbb",
      "metadata": {
        "id": "54b08262-e08d-4457-ad12-a2a01d641bbb"
      },
      "source": [
        "**c)** Usando h de la regla de Silverman, el valor estimado de la densidad\n",
        "en el mínimo de la muestra es $\\hat{f}(x)=0.0334$"
      ]
    },
    {
      "cell_type": "code",
      "execution_count": null,
      "id": "3162c9c1-11a8-4e49-95e9-29816225c366",
      "metadata": {
        "id": "3162c9c1-11a8-4e49-95e9-29816225c366",
        "outputId": "c310b6d8-6ef3-47cd-ef7b-d56897224d74"
      },
      "outputs": [
        {
          "name": "stdout",
          "output_type": "stream",
          "text": [
            "0.03347810436354607\n"
          ]
        }
      ],
      "source": [
        "np.random.seed(1114)\n",
        "n = 100\n",
        "mu = 8\n",
        "sigma = 2\n",
        "datos = np.random.normal(loc=mu, scale=sigma, size=n)\n",
        "\n",
        "def f_hat_k(x, datos, h):\n",
        "    n = len(datos)\n",
        "    return (1 / (n * h)) * np.sum(norm.pdf((x - datos) / h))\n",
        "\n",
        "h = 0.9 * min(np.std(datos), iqr(datos) / 1.34) * (n ** (-1 / 5))\n",
        "x_min = np.min(datos)\n",
        "result = f_hat_k(x_min, datos, h)\n",
        "\n",
        "print(result)"
      ]
    },
    {
      "cell_type": "markdown",
      "id": "3d564b80-b6d5-4825-8c3b-028120d21bff",
      "metadata": {
        "id": "3d564b80-b6d5-4825-8c3b-028120d21bff"
      },
      "source": [
        "Un IC del $95\\%$ para $\\hat{f}(x)$, considerando despreciable el sesgo, en el mínimo de la muestra es: **(-0.109, 0.176)**"
      ]
    },
    {
      "cell_type": "code",
      "execution_count": null,
      "id": "a90e5192-1cc4-4868-9d36-3e4bac66ebbf",
      "metadata": {
        "id": "a90e5192-1cc4-4868-9d36-3e4bac66ebbf",
        "outputId": "873a1a10-aca9-42cc-d9ca-fdf47d459a4e"
      },
      "outputs": [
        {
          "name": "stdout",
          "output_type": "stream",
          "text": [
            "-0.10963161187703085 0.17658782060412298\n"
          ]
        }
      ],
      "source": [
        "import numpy as np\n",
        "from scipy.stats import norm, iqr\n",
        "\n",
        "np.random.seed(1114)\n",
        "n = 100\n",
        "mu = 8\n",
        "sigma = 2\n",
        "datos = np.random.normal(loc=mu, scale=sigma, size=n)\n",
        "\n",
        "def f_hat_k(x, datos, h):\n",
        "    n = len(datos)\n",
        "    return (1 / (n * h)) * np.sum(norm.pdf((x - datos) / h))\n",
        "\n",
        "h = 0.9 * min(np.std(datos), iqr(datos) / 1.34) * (n ** (-1 / 5))\n",
        "x_min = np.min(datos)\n",
        "f_hat_k_x_min = f_hat_k(x_min, datos, h)\n",
        "\n",
        "se = np.sqrt((1 / (n * h * np.sqrt(2 * np.pi))) * (1 - (2 * h ** 2 * norm.pdf(0) ** 2)))\n",
        "z = norm.ppf(0.975)\n",
        "\n",
        "ci_lower = f_hat_k_x_min - z * se\n",
        "ci_upper = f_hat_k_x_min + z * se\n",
        "\n",
        "print(ci_lower, ci_upper)"
      ]
    },
    {
      "cell_type": "markdown",
      "id": "8336b55c-4cc1-479d-bde4-00f48d061767",
      "metadata": {
        "id": "8336b55c-4cc1-479d-bde4-00f48d061767"
      },
      "source": [
        "**d)** El h de referencia a la normal es: **0.76**"
      ]
    },
    {
      "cell_type": "code",
      "execution_count": null,
      "id": "675631f0-e2d6-452b-957b-972cb2700dbf",
      "metadata": {
        "id": "675631f0-e2d6-452b-957b-972cb2700dbf",
        "outputId": "c1dd3c01-cca5-4c3d-d738-cd2c083b6e91"
      },
      "outputs": [
        {
          "name": "stdout",
          "output_type": "stream",
          "text": [
            "0.763443858417396\n"
          ]
        }
      ],
      "source": [
        "import numpy as np\n",
        "from scipy.stats import norm\n",
        "\n",
        "np.random.seed(1114)\n",
        "n = 100\n",
        "mu = 8\n",
        "sigma = 2\n",
        "datos = np.random.normal(loc=mu, scale=sigma, size=n)\n",
        "\n",
        "h = 1.06 * np.std(datos) * (n ** (-1 / 5))\n",
        "\n",
        "print(h)"
      ]
    },
    {
      "cell_type": "markdown",
      "id": "1525718b-dd10-4fd0-8d1f-af2e9345e67d",
      "metadata": {
        "id": "1525718b-dd10-4fd0-8d1f-af2e9345e67d"
      },
      "source": [
        "Este código genera una muestra aleatoria de $n$ puntos de datos de una distribución normal con media $\\mu$ y desviación estándar $\\sigma$. Luego calcula el ancho de banda de referencia $h$ para una distribución normal utilizando la fórmula h=1.06*np.std(datos)*(n**(-1/5)), donde np.std(datos) es la desviación estándar de los datos y n es el número de puntos de datos. Esta fórmula proporciona un valor de referencia para el ancho de banda que se puede utilizar como punto de partida al elegir el ancho de banda para una estimación de densidad del núcleo."
      ]
    },
    {
      "cell_type": "markdown",
      "id": "0d4cff39-e0f3-47f3-807e-779644ed6c93",
      "metadata": {
        "id": "0d4cff39-e0f3-47f3-807e-779644ed6c93"
      },
      "source": [
        "Las estimaciones de la media y la varianza son, respectivamente, **7.89**, **1.809**"
      ]
    },
    {
      "cell_type": "code",
      "execution_count": null,
      "id": "b6c62531-56c1-4a5e-9654-e3ed1f349a32",
      "metadata": {
        "id": "b6c62531-56c1-4a5e-9654-e3ed1f349a32",
        "outputId": "6c6a1b53-9047-4057-ea55-7222b12bd719"
      },
      "outputs": [
        {
          "name": "stdout",
          "output_type": "stream",
          "text": [
            "Media estimada: 7.893789451078702\n",
            "Desviación estándar estimada: 1.8091361029980926\n"
          ]
        }
      ],
      "source": [
        "media_estimada = np.mean(datos)\n",
        "desviacion_estandar_estimada = np.std(datos)\n",
        "print(\"Media estimada:\", media_estimada)\n",
        "print(\"Desviación estándar estimada:\", desviacion_estandar_estimada)"
      ]
    },
    {
      "cell_type": "markdown",
      "id": "afcf90bc-798e-4b98-8b60-b73f9e48329c",
      "metadata": {
        "id": "afcf90bc-798e-4b98-8b60-b73f9e48329c"
      },
      "source": [
        "Con estos valores y asumiendo $x =$ el máximo de la muestra, encuentre:$E(\\hat{f}_k(x))=0.0449$, $\\hat{ee}(\\hat{f}_k(x)=0.000147$"
      ]
    },
    {
      "cell_type": "code",
      "execution_count": null,
      "id": "9ebd0f2e-cdc3-41e5-b41b-f60f6ba64462",
      "metadata": {
        "id": "9ebd0f2e-cdc3-41e5-b41b-f60f6ba64462",
        "outputId": "46806f67-6f20-4cc1-c8eb-98f187dffe41"
      },
      "outputs": [
        {
          "name": "stdout",
          "output_type": "stream",
          "text": [
            "0.04492213929196765\n",
            "0.00014768012216638085\n"
          ]
        }
      ],
      "source": [
        "import numpy as np\n",
        "from scipy.stats import norm\n",
        "from numpy import var\n",
        "\n",
        "np.random.seed(1114)\n",
        "mu = 8\n",
        "sigma = 2\n",
        "n = 100\n",
        "datos = np.random.normal(loc=mu, scale=sigma, size=n)\n",
        "\n",
        "h = round(1.06 * np.std(datos) * n ** (-1 / 5), 2)\n",
        "x = max(datos)\n",
        "mue=sum(datos) / len(datos)\n",
        "ve=var(datos)\n",
        "v=ve+h**2\n",
        "expected_value = norm.pdf(x, loc=mue, scale=v)\n",
        "standard_error = (1/n)*(norm.pdf(0,0,2*h**2)*norm.pdf(x,mue,ve+(1/(h**2)))-(norm.pdf(x,mue,ve+h**2))**2 )\n",
        "\n",
        "print(expected_value)\n",
        "print(standard_error)"
      ]
    },
    {
      "cell_type": "markdown",
      "id": "fcbfc8d2-a1c1-4c4c-8c8f-277c1b61f8c7",
      "metadata": {
        "id": "fcbfc8d2-a1c1-4c4c-8c8f-277c1b61f8c7"
      },
      "source": [
        "**e)** Las bandas de referencia a la normal son:**[0.0136,0.0762]**"
      ]
    },
    {
      "cell_type": "code",
      "execution_count": null,
      "id": "7947b6eb-a7ec-4f10-af23-a188b0b2dc03",
      "metadata": {
        "id": "7947b6eb-a7ec-4f10-af23-a188b0b2dc03",
        "outputId": "747c7464-2e17-42e3-d35e-7f12e9206cab"
      },
      "outputs": [
        {
          "name": "stdout",
          "output_type": "stream",
          "text": [
            "0.012152371051213869\n",
            "The lower normal reference band at x = max(datos) is: 0.0136\n",
            "The upper normal reference band at x = max(datos) is: 0.0762\n"
          ]
        }
      ],
      "source": [
        "import numpy as np\n",
        "from scipy.stats import norm\n",
        "\n",
        "np.random.seed(1114)\n",
        "mu = 8\n",
        "sigma = 2\n",
        "n = 100\n",
        "datos = np.random.normal(loc=mu, scale=sigma, size=n)\n",
        "\n",
        "h = round(1.06 * np.std(datos) * n ** (-1 / 5), 2)\n",
        "x = max(datos)\n",
        "\n",
        "mue=sum(datos) / len(datos)\n",
        "ve=var(datos)\n",
        "v=ve+h**2\n",
        "expected_value = norm.pdf(x, loc=mue, scale=v)\n",
        "standard_error = ((1/n)*(norm.pdf(0,0,2*h**2)*norm.pdf(x,mue,ve+(1/(h**2)))-(norm.pdf(x,mue,ve+h**2))**2 ))**(1/2)\n",
        "\n",
        "\n",
        "lower_band = expected_value - 2.575 * standard_error\n",
        "upper_band = expected_value + 2.575 * standard_error\n",
        "\n",
        "print(standard_error)\n",
        "print(f\"The lower normal reference band at x = max(datos) is: {round(lower_band, 4)}\")\n",
        "print(f\"The upper normal reference band at x = max(datos) is: {round(upper_band, 4)}\")"
      ]
    },
    {
      "cell_type": "markdown",
      "id": "73d9c7f1-ad32-44fa-bf7b-864d099c75a0",
      "metadata": {
        "id": "73d9c7f1-ad32-44fa-bf7b-864d099c75a0"
      },
      "source": [
        "**f)** Haga un test de normalidad usando la función nise de la librería sm de R.(código equivalente en python) El valor p de la prueba es **0.554**"
      ]
    },
    {
      "cell_type": "code",
      "execution_count": null,
      "id": "965c111c-3203-4398-b816-d66fed819346",
      "metadata": {
        "id": "965c111c-3203-4398-b816-d66fed819346",
        "outputId": "a6279a4a-6cfc-4d50-d867-2cfa345394f0"
      },
      "outputs": [
        {
          "name": "stdout",
          "output_type": "stream",
          "text": [
            "P value del test de normalidad: 0.554\n"
          ]
        },
        {
          "data": {
            "image/png": "[encoded data removed]",
            "text/plain": [
              "<Figure size 432x288 with 1 Axes>"
            ]
          },
          "metadata": {
            "needs_background": "light"
          },
          "output_type": "display_data"
        }
      ],
      "source": [
        "import numpy as np\n",
        "from scipy.stats import norm, gaussian_kde\n",
        "import matplotlib.pyplot as plt\n",
        "\n",
        "def nise(data):\n",
        "    kde = gaussian_kde(data)\n",
        "    x_values = np.linspace(min(data), max(data), num=1000)\n",
        "    density = kde.evaluate(x_values)\n",
        "    true_density = norm.pdf(x_values, loc=np.mean(data), scale=np.std(data))\n",
        "    ise = np.trapz((density - true_density) ** 2, x=x_values)\n",
        "    return ise\n",
        "\n",
        "np.random.seed(1114)\n",
        "mu = 8\n",
        "sigma = 2\n",
        "n = 100\n",
        "datos = np.random.normal(loc=mu, scale=sigma, size=n)\n",
        "\n",
        "Tobser = nise(datos)\n",
        "ts = 1000\n",
        "Tsimulacion = [nise(np.random.normal(size=n)) for _ in range(ts)]\n",
        "pval = sum(Tsimulacion > Tobser) / ts\n",
        "\n",
        "print(f\"P value del test de normalidad: {pval}\")\n",
        "\n",
        "plt.hist(Tsimulacion, density=True, label='Distribución  T')\n",
        "plt.axvline(x=Tobser, color='r', linestyle='--', label='T Observado')\n",
        "plt.axvline(x=np.quantile(Tsimulacion, 0.95), color='g', linestyle='--', label='T Critico')\n",
        "\n",
        "plt.xlabel('T simulado bajo normalidad')\n",
        "plt.ylabel('Frecuencia')\n",
        "plt.legend()\n",
        "plt.show()"
      ]
    },
    {
      "cell_type": "markdown",
      "id": "b221ca3d-f413-40d7-9e35-dbe1411c5b5a",
      "metadata": {
        "id": "b221ca3d-f413-40d7-9e35-dbe1411c5b5a"
      },
      "source": [
        "Teniendo en cuenta lo mostrado en la figura expuesta, podemos afirmar que si existe normalidad en los datos, por lo cual no se rechaza la hipótesis nula."
      ]
    },
    {
      "cell_type": "markdown",
      "id": "d1966e0e-b2dc-40c9-86a4-71eb5b1eed2c",
      "metadata": {
        "id": "d1966e0e-b2dc-40c9-86a4-71eb5b1eed2c"
      },
      "source": [
        "**2** Sea $X \\sim \\mathrm{N}(\\mu, \\sigma^2)$. Compruebe que $R(f'') = \\int_{-\\infty}^{\\infty} [f\"(x)]^2 \\, dx = \\frac{3}{8\\sigma^5\\sqrt{\\pi}}$"
      ]
    },
    {
      "cell_type": "markdown",
      "id": "c6b6864d-8196-4485-a76c-f282f9fb0230",
      "metadata": {
        "id": "c6b6864d-8196-4485-a76c-f282f9fb0230"
      },
      "source": [
        "Para ello, vamos a encontrar la segunda derivada de la densidad de una normal:\n",
        "Tenemos que :\n",
        "\n",
        "$$f'(x)= \\left[\\frac{1}{\\sqrt{(2 \\pi)} \\,\\sigma} \\exp \\left \\{ { \\frac{-(x - \\mu)^2}{ 2\\sigma^2}} \\right \\}\\right]'$$\n",
        "$$\n",
        "= \\frac{1}{\\sqrt{2 \\pi} \\,\\sigma} \\exp \\left \\{  \\frac{-(x - \\mu)^2}{ 2\\sigma^2}  \\right \\} \\left (\\frac{-2(x - \\mu)}{ 2\\sigma^2} \\right)\n",
        "$$\n",
        "     \n",
        "$$=-\\frac{(x - \\mu)}{\\sqrt{2 \\pi} \\,\\sigma^3} \\exp \\left \\{  \\frac{-(x - \\mu)^2}{2 \\sigma^2}  \\right \\}\n",
        "$$"
      ]
    },
    {
      "cell_type": "markdown",
      "id": "33f01978-4382-4588-85a5-b0d293b23ba2",
      "metadata": {
        "id": "33f01978-4382-4588-85a5-b0d293b23ba2"
      },
      "source": [
        "y hallando la segunda derivada:"
      ]
    },
    {
      "cell_type": "markdown",
      "id": "0dbd3c34-8522-402b-82fb-e750f61012df",
      "metadata": {
        "id": "0dbd3c34-8522-402b-82fb-e750f61012df"
      },
      "source": [
        " $$f'' (x) =  -\\frac{x }{\\sqrt{2 \\pi} \\,\\sigma^3} \\exp \\left \\{  \\frac{-(x - \\mu)^2}{ 2\\sigma^2}  \\right \\}  -\\frac{(x - \\mu)}{\\sqrt{2 \\pi} \\,\\sigma^3} \\, \\exp \\left \\{  \\frac{-(x - \\mu)^2}{ 2\\sigma^2}  \\right \\} \\left (\\frac{-2(x - \\mu)}{ 2\\sigma^2} \\right)$$\n",
        "  $$=-\\frac{x }{\\sqrt{2 \\pi} \\,\\sigma^3} \\exp \\left \\{  \\frac{-(x - \\mu)^2}{ 2\\sigma^2}  \\right \\} + \\frac{(x - \\mu)^2}{\\sqrt{2 \\pi} \\,\\sigma^5} \\, \\exp \\left \\{  \\frac{-(x - \\mu)^2}{ 2\\sigma^2}  \\right \\} $$\n",
        "$$=  \\exp \\left \\{  \\frac{-(x - \\mu)^2}{ 2\\sigma^2}  \\right \\} \\left( \\frac{(x - \\mu)^2}{\\sqrt{2 \\pi} \\,\\sigma^5} -\\frac{1 }{\\sqrt{2 \\pi} \\,\\sigma^3}\\right)$$\n",
        "$$= \\exp \\left \\{  \\frac{-(x - \\mu)^2}{ 2\\sigma^2}  \\right \\} \\left( \\frac{(x - \\mu)^2-\\sigma^2}{\\sqrt{2 \\pi} \\,\\sigma^5} \\right) $$"
      ]
    },
    {
      "cell_type": "markdown",
      "id": "f2f2fb9f-400b-40e8-a05a-dfee38f99395",
      "metadata": {
        "id": "f2f2fb9f-400b-40e8-a05a-dfee38f99395"
      },
      "source": [
        "Luego:"
      ]
    },
    {
      "cell_type": "markdown",
      "id": "2c5ecb8c-75dd-4cbb-9e7d-0b720c0f18da",
      "metadata": {
        "id": "2c5ecb8c-75dd-4cbb-9e7d-0b720c0f18da"
      },
      "source": [
        "$$\n",
        "R(f'') = \\int_{-\\infty}^{\\infty} [f''(x)]^2 \\, dx\n",
        "$$\n",
        "$$=\\int_{-\\infty}^{\\infty} \\left [ \\exp \\left \\{  \\frac{-(x - \\mu)^2}{ 2\\sigma^2}  \\right \\} \\left( \\frac{(x - \\mu)^2-\\sigma^2}{\\sqrt{2 \\pi} \\,\\sigma^5} \\right)  \\right]^2 \\,dx$$\n",
        "$$= \\frac{1}{2\\pi \\sigma^{10}}  \\int_{-\\infty}^{\\infty} \\left( {(x - \\mu)^2-\\sigma^2} \\right)^2 \\left [ \\exp \\left \\{  \\frac{-(x - \\mu)^2}{ 2\\sigma^2}  \\right \\}  \\right]^2 \\,dx$$"
      ]
    },
    {
      "cell_type": "markdown",
      "id": "da001e13-22ca-4ee5-bc39-fec829cf7dd3",
      "metadata": {
        "id": "da001e13-22ca-4ee5-bc39-fec829cf7dd3"
      },
      "source": [
        "Sea $Z=\\frac{X-\\mu}{\\sigma}$, con $\\sigma \\, dz=dx$, por lo que $X-\\mu=Z\\sigma$"
      ]
    },
    {
      "cell_type": "markdown",
      "id": "2aa22e6d-dee9-4767-8f0c-889f4742ea57",
      "metadata": {
        "id": "2aa22e6d-dee9-4767-8f0c-889f4742ea57"
      },
      "source": [
        "$$\n",
        "R(f'') = \\frac{1}{2\\pi \\sigma^{10}}  \\int_{-\\infty}^{\\infty} \\left( {(z\\sigma)^2-\\sigma^2} \\right)^2  \\exp \\left \\{  \\frac{-2 z^2}{2}  \\right \\}  \\sigma\\,dz    \n",
        "$$\n",
        "\n",
        "$$\n",
        "= \\frac{1}{2\\pi \\sigma^{10}} \\left[ \\sigma^5  \\int_{-\\infty}^{\\infty}z^4\\exp(-z^2)\\, dz -2\\sigma^5 \\int_{-\\infty}^{\\infty}\\exp(-z^2) z^2 \\, dz  + \\sigma^5    \\int_{-\\infty}^{\\infty}\\exp(-z^2) \\, dz \\right]  \\text{Como} \\int_{-\\infty}^{\\infty} y \\, dy= 2\\int_{-\\infty}^{0} y \\, dy\n",
        "$$\n",
        "\n",
        "$$\n",
        "=\\frac{\\sigma^5}{2\\pi \\sigma^{10}} \\left[  \\int_{-\\infty}^{\\infty}z^4\\exp(-z^2)\\, dz -2 \\int_{-\\infty}^{\\infty}\\exp(-z^2) z^2 \\, dz  +     \\int_{-\\infty}^{\\infty}\\exp(-z^2) \\, dz \\right]\n",
        "$$\n",
        "\n",
        "$$\n",
        "=\\frac{1}{2\\pi \\sigma^{5}} \\left[  \\int_{-\\infty}^{\\infty}z^4\\exp(-z^2)\\, dz -2 \\int_{-\\infty}^{\\infty}\\exp(-z^2) z^2 \\, dz  +     \\int_{-\\infty}^{\\infty}\\exp(-z^2) \\, dz \\right]\n",
        "$$\n",
        "\n",
        "$$\n",
        "=\\frac{1}{2\\pi \\sigma^5} \\left[ \\frac{3\\sqrt{\\pi}}{4}-2\\frac{\\sqrt{\\pi}}{2} +\\sqrt{\\pi}      \\right]  \n",
        "$$\n",
        "\n",
        "$$\n",
        "= \\frac{3}{8\\sigma^5 \\sqrt{\\pi}}\n",
        "$$"
      ]
    },
    {
      "cell_type": "markdown",
      "id": "4e0a4711-aade-44d9-9048-3fa65d296475",
      "metadata": {
        "id": "4e0a4711-aade-44d9-9048-3fa65d296475"
      },
      "source": [
        "Como que sabemos que:$\\int_{0}^{\\infty} \\exp{(-\\alpha x^2)}\\, dx= \\frac{\\sqrt{\\pi}} {2\\sqrt{\\alpha}}$\n",
        "$$\\int_{-\\infty}^{\\infty}z^4\\exp(-z^2)\\, dz= \\frac{3}{4} \\sqrt{\\pi}$$,   $$\\int_{-\\infty}^{\\infty}z^2\\exp(-z^2)\\, dz= \\frac{\\sqrt{\\pi}}{2}$$ y $$\\int_{-\\infty}^{\\infty}\\exp(-z^2)\\, dz=\\sqrt{\\pi}$$"
      ]
    },
    {
      "cell_type": "markdown",
      "id": "4d73d4cd-4b31-4386-89ca-3f80b39f3508",
      "metadata": {
        "id": "4d73d4cd-4b31-4386-89ca-3f80b39f3508"
      },
      "source": [
        "De esta manera queda comprobado"
      ]
    },
    {
      "cell_type": "markdown",
      "id": "a515b176-63f5-45c4-8304-64247ab5dbf6",
      "metadata": {
        "id": "a515b176-63f5-45c4-8304-64247ab5dbf6"
      },
      "source": [
        "**3** Usando la regla de referencia a la normal compruebe que $h_{opt} = 1,059 \\hat{\\sigma}^{- \\frac{1}{5}}$, con $\\hat{\\sigma}$ el mínimo de (RIC, s), con RIC el rango intercuartílico y s la desviación estándar muestral"
      ]
    },
    {
      "cell_type": "markdown",
      "id": "75dd12ca-c2e0-4c08-bb93-c4b702287428",
      "metadata": {
        "id": "75dd12ca-c2e0-4c08-bb93-c4b702287428"
      },
      "source": [
        "Sea $X \\sim N(\\mu, \\sigma^2)$, K(u) un Kernel Gaussiano con varianza $\\sigma^2_K$, es decir $U \\sim N(0, \\sigma^2_K)$, y $\\hat{f}_K(x)$ el estimador Kernel de la densidad con ancho de banda h. El error cuadrado medio integrado asintótico se define como $AMISE(\\hat{f}) = \\dfrac{R(K)}{nh} + \\dfrac{\\sigma^4_K h^4 R(f'')}{4}$."
      ]
    },
    {
      "cell_type": "markdown",
      "id": "9975b469-79ea-4b41-98b3-6a6dcace3080",
      "metadata": {
        "id": "9975b469-79ea-4b41-98b3-6a6dcace3080"
      },
      "source": [
        "$h_0$ que minimiza $AMISE( \\hat{f})$"
      ]
    },
    {
      "cell_type": "markdown",
      "id": "88b3a13b-676b-4411-a88f-f8f1af0f2ea2",
      "metadata": {
        "id": "88b3a13b-676b-4411-a88f-f8f1af0f2ea2"
      },
      "source": [
        "$$\n",
        "\\dfrac{\\partial AMISE (\\hat{f}_K)}{\\partial h}= \\dfrac{-R(K)}{nh^2} + \\dfrac{4 h^3 \\sigma^4_K R(f''(x))}{4}\n",
        "$$\n",
        "\n",
        "$$\n",
        "= h^3 \\sigma^4_K R(f''(x)) - \\dfrac{R(K)}{nh^2}\n",
        "$$"
      ]
    },
    {
      "cell_type": "markdown",
      "id": "971c5628-8236-49d6-b080-537630320880",
      "metadata": {
        "id": "971c5628-8236-49d6-b080-537630320880"
      },
      "source": [
        "Luego, para hallar los puntos críticos:"
      ]
    },
    {
      "cell_type": "markdown",
      "id": "4baf77dc-cace-408f-99cb-2a50f09998ea",
      "metadata": {
        "id": "4baf77dc-cace-408f-99cb-2a50f09998ea"
      },
      "source": [
        "$$\\dfrac{\\partial AMISE (\\hat{f}_K)}{\\partial h} = 0 $$\n",
        "$$ h^3 \\sigma^4_K R(f''(x)) - \\dfrac{R(K)}{nh^2} = 0 $$\n",
        "$$ h^3 \\sigma^4_K R(f''(x)) = \\dfrac{R(K)}{nh^2} $$\n",
        "$$ h^5 = \\dfrac{R(K)}{n \\sigma^4_K R(f''(x))} $$"
      ]
    },
    {
      "cell_type": "markdown",
      "id": "15cc55b4-bedd-43d4-923d-171e087f93ea",
      "metadata": {
        "id": "15cc55b4-bedd-43d4-923d-171e087f93ea"
      },
      "source": [
        " Así,\n"
      ]
    },
    {
      "cell_type": "markdown",
      "id": "d9354861-cb4c-467f-bec4-c87faebd13c1",
      "metadata": {
        "id": "d9354861-cb4c-467f-bec4-c87faebd13c1"
      },
      "source": [
        "$$h_0 = \\dfrac{1}{n^{\\frac{1}{5}}} \\left( \\dfrac{R(K)}{\\sigma^4_K R(f''(x))} \\right) ^{\\frac{1}{5}}$$"
      ]
    },
    {
      "cell_type": "markdown",
      "id": "d6486475-5998-4596-b2ef-f987976e95d6",
      "metadata": {
        "id": "d6486475-5998-4596-b2ef-f987976e95d6"
      },
      "source": [
        "Tenemos que $R(f(\\cdot)) = \\int f^2(\\cdot) d\\cdot$, luego $R(K) = \\int K^2(u) du$ y $R(f''(x)) = \\int (f''(x))^2 dx$"
      ]
    },
    {
      "cell_type": "markdown",
      "id": "9489a939-0b4a-4ab8-9ed6-f139c09dc0b6",
      "metadata": {
        "id": "9489a939-0b4a-4ab8-9ed6-f139c09dc0b6"
      },
      "source": [
        "Teniendo en cuenta que un kernel Gaussiano es tal que $K(x) = \\dfrac{1}{\\sqrt{2 \\pi} \\sigma} e^{\\frac{-x^2}{2 \\sigma^2}}$, entonces:"
      ]
    },
    {
      "cell_type": "markdown",
      "id": "bd04cf88-3cc8-49d5-8fed-38a61380fc60",
      "metadata": {
        "id": "bd04cf88-3cc8-49d5-8fed-38a61380fc60"
      },
      "source": [
        "$$ R(K) = \\int K^2(u) du = \\int \\left( \\dfrac{1}{\\sqrt{2 \\pi} \\sigma_K} e^{\\frac{-u^2}{2 \\sigma^2_K}} \\right)^2 du $$\n",
        "\n",
        "$$= \\dfrac{1}{2 \\pi \\sigma^2_K} \\int e^{\\frac{-u^2}{\\sigma^2_K}} du$$\n",
        "Por convenio, se toma $\\sigma^2_K = 1$\n",
        "\n",
        "$$= \\dfrac{1}{2 \\pi} \\int e^{-u^2} $$\n",
        "\n",
        "$$= \\dfrac{1}{2 \\pi} \\sqrt{\\pi} = \\dfrac{\\sqrt{\\pi}}{2 \\pi} $$"
      ]
    },
    {
      "cell_type": "markdown",
      "id": "0789bc75-ef98-4dbe-a4a7-bc61ed794fb8",
      "metadata": {
        "id": "0789bc75-ef98-4dbe-a4a7-bc61ed794fb8"
      },
      "source": [
        " Por su parte"
      ]
    },
    {
      "cell_type": "markdown",
      "id": "f8309920-e6ea-4235-911b-1169ab77a5ac",
      "metadata": {
        "id": "f8309920-e6ea-4235-911b-1169ab77a5ac"
      },
      "source": [
        "$$R(f''(x)) = \\int \\left( f''(x) \\right) ^2 dx $$\n",
        "$$= \\int \\dfrac{e^{- \\frac{(x - \\mu)^2}{\\sigma ^2}} [(x - \\mu)^2 - \\sigma^2]^2}{2 \\pi \\sigma^{10}} dx $$\n",
        "$$= \\dfrac{3}{8 \\sigma^5 \\sqrt{\\pi}}$$"
      ]
    },
    {
      "cell_type": "markdown",
      "id": "8788ecb7-bcfd-4174-935c-cd21b505080e",
      "metadata": {
        "id": "8788ecb7-bcfd-4174-935c-cd21b505080e"
      },
      "source": [
        "Reemplazando obtenemos,\n",
        "\n",
        "$$h_0 = \\dfrac{1}{n^{\\frac{1}{5}}} \\left( \\dfrac{R(K)}{\\sigma^4_K R(f''(x))} \\right)^{\\frac{1}{5}} $$\n",
        "$$= \\dfrac{1}{n^{\\frac{1}{5}}} \\left[ \\dfrac{ \\dfrac{ \\sqrt{ \\pi}}{2 \\pi}}{\\dfrac{3 \\sigma^4_K}{8 \\sigma^5 \\sqrt{ \\pi}}} \\right] ^{\\frac{1}{5}} $$\n",
        "$$= \\dfrac{1}{n^{ \\frac{1}{5}}} \\left( \\dfrac{8 \\sigma^5 \\pi}{6 \\sigma^4_K \\pi} \\right)^{\\frac{1}{5}} $$\n",
        "como $\\sigma^2_K = 1$;\n",
        "$$ = \\dfrac{\\sigma}{n^{ \\frac{1}{5}}} \\left( \\dfrac{4}{3} \\right) ^{\\frac{1}{5}}$$"
      ]
    },
    {
      "cell_type": "markdown",
      "id": "a5eb68df-5aef-499f-b335-021b1bccbe9e",
      "metadata": {
        "id": "a5eb68df-5aef-499f-b335-021b1bccbe9e"
      },
      "source": [
        "Por lo tanto, el h óptimo es $h_0 \\approx 1.059 \\dfrac{\\sigma}{n^{ \\frac{1}{5}}}$"
      ]
    },
    {
      "cell_type": "markdown",
      "id": "a65e69ee-0dfc-432f-814b-aaa50d8c65f3",
      "metadata": {
        "id": "a65e69ee-0dfc-432f-814b-aaa50d8c65f3"
      },
      "source": [
        "Como vimos $h_{opt} = 1.059 \\sigma n^{- \\frac{1}{5}}$. Como $\\sigma$ es un parámetro desconocido, se reemplaza por un estimador $\\hat{\\sigma}$;\n",
        "\n",
        "$$ h_{sil} = 1.059 \\hat{\\sigma} n^{- \\frac{1}{5}}$$\n",
        "\n",
        "Para revisar el fundamento teórico de la regla de Silverman, usaremos que $E(s^2) = \\sigma ^2$, con lo que se toma s como un estimador no-insesgado para $\\sigma$, pues:\n",
        "\n",
        "$$E(s) = E(\\sqrt{s^2}) \\leq \\sqrt{E(s^2)} = \\sqrt{\\sigma^2} = \\sigma$$\n",
        "\n",
        "Además, se conoce la siguiente relación entre RIC y $\\sigma$ para el caso de la distribución normal:"
      ]
    },
    {
      "cell_type": "markdown",
      "id": "dba9d740-45a1-4269-a98b-dca15631d59c",
      "metadata": {
        "id": "dba9d740-45a1-4269-a98b-dca15631d59c"
      },
      "source": [
        "$$RIC  \\approx 1.35 \\sigma $$\n",
        "    $$\\sigma  \\approx \\dfrac{RIC}{1.35}$$"
      ]
    },
    {
      "cell_type": "markdown",
      "id": "61f5d347-f6db-4375-b4e4-db2d725e0de5",
      "metadata": {
        "id": "61f5d347-f6db-4375-b4e4-db2d725e0de5"
      },
      "source": [
        "Como el rango intercuartílico es más robusto a la presencia de datos atípicos, entonces:\n",
        "\n",
        "$$\\hat{\\sigma} = min\\left \\{s, \\dfrac{RIC}{1.35} \\right \\}$$"
      ]
    },
    {
      "cell_type": "markdown",
      "id": "ccc8593d-a2a0-4b36-88fa-155c89cf5d04",
      "metadata": {
        "id": "ccc8593d-a2a0-4b36-88fa-155c89cf5d04"
      },
      "source": [
        "De esta manera queda comprobado $h_{opt} = 1,059 \\hat{\\sigma}^{- \\frac{1}{5}}$ usando la regla de  referencia a la normal."
      ]
    },
    {
      "cell_type": "markdown",
      "id": "e135c996-a288-4b3f-9807-c8a6e0d143a7",
      "metadata": {
        "id": "e135c996-a288-4b3f-9807-c8a6e0d143a7"
      },
      "source": [
        "**4** Sea $X \\sim N(\\mu, \\sigma^2)$, K(u) un Kernel Gaussiano con varianza $h^2$, es decir $U \\sim N(0, h^2)$ y $\\hat{f}_K (x)$ el estimador Kernel de la densidad. Demuestre que (ver Bowman and Azzalini, 1997, page 41):\n",
        "\n",
        "$$\\hat{\\mathbb{V}} (\\hat{f}_K (x)) = \\dfrac{1}{n} \\left[ \\Phi(0; 0, 2h^2) \\Phi \\left( x; \\hat{\\mu}, \\hat{\\sigma}^2 + \\dfrac{h^2}{2} \\right) - \\Phi(x; \\hat{\\mu}, \\hat{\\sigma}^2 + h^2)^2 \\right]$$"
      ]
    },
    {
      "cell_type": "markdown",
      "id": "f6a08f74-f677-43fb-a048-621b7bd59ca5",
      "metadata": {
        "id": "f6a08f74-f677-43fb-a048-621b7bd59ca5"
      },
      "source": [
        "**Solución**"
      ]
    },
    {
      "cell_type": "markdown",
      "id": "a344199e-1ab0-418d-af85-78e1b51b0efc",
      "metadata": {
        "id": "a344199e-1ab0-418d-af85-78e1b51b0efc"
      },
      "source": [
        "Tenemos que $\\hat{f}_K(x) = \\dfrac{1}{n} \\displaystyle\\sum_{i=1}^n \\dfrac{1}{h} K\\left( \\dfrac{x - X_i}{h} \\right) = \\dfrac{1}{n} \\displaystyle\\sum_{i=1}^n K_h (x - X_i)$, luego:"
      ]
    },
    {
      "cell_type": "markdown",
      "id": "534f3feb-77a1-491f-b92e-e3b0aded07d5",
      "metadata": {
        "id": "534f3feb-77a1-491f-b92e-e3b0aded07d5"
      },
      "source": [
        "$$ \\mathbb{V}(\\hat{f}_K(x)) = \\mathbb{V} \\left( \\dfrac{1}{n} \\displaystyle\\sum_{i=1}^n K_h (x - X_i) \\right) $$\n",
        "    $$= \\dfrac{1}{n^2} \\mathbb{V} (\\displaystyle\\sum_{i=1}^n K_h (x-X)) $$\n",
        "    $$= \\dfrac{1}{n} \\mathbb{V} (K_h (x-X)) $$\n",
        "    $$= \\dfrac{1}{n} \\mathbb{E} (K_h^2 (x-X)) - \\dfrac{1}{n} [\\mathbb{E} (K_h (x-X))]^2$$"
      ]
    },
    {
      "cell_type": "markdown",
      "id": "93470798-26d8-4aad-8e81-32e5e958f5d2",
      "metadata": {
        "id": "93470798-26d8-4aad-8e81-32e5e958f5d2"
      },
      "source": [
        "Para el valor de la derecha, recordemos que $\\mathbb{E} (\\hat{f}_K (x))$ es igual a la convolución de X y U, entonces,"
      ]
    },
    {
      "cell_type": "markdown",
      "id": "e024f80b-b19e-46c7-a37b-94b53f2d3345",
      "metadata": {
        "id": "e024f80b-b19e-46c7-a37b-94b53f2d3345"
      },
      "source": [
        "  $$f_Z(z) = f_Z (x+u)  = \\int K(u) f(x-u) du = \\mathbb{E} (\\hat{f}_K (x))$$"
      ]
    },
    {
      "cell_type": "markdown",
      "id": "b7b295b9-3097-4bb8-a9a5-0c9194b1f4d9",
      "metadata": {
        "id": "b7b295b9-3097-4bb8-a9a5-0c9194b1f4d9"
      },
      "source": [
        "Como X y U son independientes y tienen distribución normal, podemos afirmar $X+U = Z \\sim N(\\mu, \\sigma^2 + h^2)$, luego $f_Z(z) = \\Phi (x; \\hat{\\mu}, \\hat{\\sigma}^2 + h^2)$, por lo tanto $\\dfrac{1}{n} \\left[ \\mathbb{E} (K_h (x-X)) \\right]^2 = \\Phi (x; \\hat{\\mu}, \\hat{\\sigma}^2 + h^2)^2$.\n",
        "\n",
        "Para el término de la izquierda, recordemos que $K(u)$ es un kernel gaussiano, por lo tanto es simétrico centrado en 0, luego $K(u) = K(-u)$, y que, usando la notación O con expansión de Taylor, se obtiene $f(x+uh) = f(x) + O(h)$, donde O(h) tiende a 0; con esto veamos;"
      ]
    },
    {
      "cell_type": "markdown",
      "id": "459720eb-5b4d-4126-83e3-c51b22ba33cc",
      "metadata": {
        "id": "459720eb-5b4d-4126-83e3-c51b22ba33cc"
      },
      "source": [
        "$$\\mathbb{E} (K_h^2 (x-X)) = \\int_{-\\infty}^{\\infty} K_h^2(x-y) f(y) dy $$\n",
        "\n",
        "$$= \\int_{-\\infty}^{\\infty} \\dfrac{1}{h^2} K^2 \\left( \\dfrac{x-y}{h} \\right) f(y) dy $$\n",
        "$$= \\int_{-\\infty}^{\\infty} \\dfrac{1}{h^2} K^2 \\left[- \\left( \\dfrac{x-y}{h} \\right) \\right] f(y) dy ^{S_1} $$\n",
        "$$=  \\int_{-\\infty}^{\\infty} \\dfrac{1}{h} K^2(u) f(x+uh) du $$\n",
        "$$= \\int_{-\\infty}^{\\infty} \\dfrac{1}{h} K^2(u) f(x) du $$\n",
        "$$= \\int_{-\\infty}^{\\infty} \\left(\\dfrac{1}{\\sqrt{2 \\pi}h} e^{-\\frac{u^2}{2h^2}} \\right) ^2 f(x) du $$\n",
        "$$= \\int_{-\\infty}^{\\infty} \\dfrac{1}{(\\sqrt{2 \\pi})^2 h^2} e^{- \\dfrac{u^2}{h^2}} f(x) du $$\n",
        "$$= \\int_{-\\infty}^{\\infty} \\dfrac{1}{(\\sqrt{2 \\pi})^2 h^2} \\dfrac{1}{\\frac {\\sqrt {2}}{\\sqrt {2}}} e^{-\\frac{u^2}{h^2} \\frac{1}{\\frac{2}{2}}} f(x) du $$\n",
        "$$= \\dfrac{1}{\\sqrt{2 \\pi} \\sqrt{2} h} \\int_{-\\infty}^{\\infty} \\dfrac{1}{\\sqrt{2 \\pi} \\frac{h}{\\sqrt{2}}} e^{-\\frac{u^2}{2 \\frac{h^2}{2}}} f(x) du $$\n",
        "$$= \\dfrac{1}{\\sqrt{2 \\pi} \\sqrt{2} h} \\int_{-\\infty}^{\\infty} K(u) f(x) du $$\n",
        "$$= \\Phi(0; 0, 2 h^2) \\Phi \\left(x; \\hat{\\mu}, \\hat{\\sigma}^2 + \\dfrac{h^2}{2} \\right)$$"
      ]
    },
    {
      "cell_type": "markdown",
      "id": "bab563c3-9b6c-4c37-941f-e559122b2d31",
      "metadata": {
        "id": "bab563c3-9b6c-4c37-941f-e559122b2d31"
      },
      "source": [
        "Donde $S_1: u = - \\dfrac{x-y}{h} ; du = \\dfrac{dy}{h}$. Así,\n"
      ]
    },
    {
      "cell_type": "markdown",
      "id": "6e56ac91-9d7e-4d73-9d90-c4475e1cc8bb",
      "metadata": {
        "id": "6e56ac91-9d7e-4d73-9d90-c4475e1cc8bb"
      },
      "source": [
        " $$\\hat{\\mathbb{V}} (\\hat{f}_K (x)) = \\dfrac{1}{n} \\left[ \\mathbb{E} (K_h^2 (x-X)) - (\\mathbb{E} (K_h (x-X)))^2 \\right] $$\n",
        "    $$= \\dfrac{1}{n} \\left[ \\Phi(0; 0, 2h^2) \\Phi \\left(x; \\hat{\\mu}, \\hat{\\sigma} + \\dfrac{h^2}{2} \\right) - \\Phi(x; \\hat{\\mu}, \\hat{\\sigma}^2 + h^2)^2 \\right]$$"
      ]
    },
    {
      "cell_type": "markdown",
      "id": "db34e3d6-e2e1-4e03-89ee-88a558928efd",
      "metadata": {
        "id": "db34e3d6-e2e1-4e03-89ee-88a558928efd"
      },
      "source": [
        "**5** Simule n2 = 100 datos de Y ∼ Weibull (α =2 , β = 1). $H0 : f_X(x) = f_Y (y)$ versus $H_a : f_X(x) \\neq f_Y (y)$, con $f_X(x)$ a la densidad definida en el punto 1. Verifique que el código escrito entregado no tiene errores."
      ]
    },
    {
      "cell_type": "markdown",
      "id": "b89e67a9-ff91-4f5a-8711-5c3560082b0b",
      "metadata": {
        "id": "b89e67a9-ff91-4f5a-8711-5c3560082b0b"
      },
      "source": [
        "Fijamos un nivel de significancia del 5%"
      ]
    },
    {
      "cell_type": "code",
      "execution_count": null,
      "id": "5d6c331b-7728-475f-a58f-706fb0fa9ba6",
      "metadata": {
        "id": "5d6c331b-7728-475f-a58f-706fb0fa9ba6",
        "outputId": "414998b0-5cd7-4d61-dd59-8941bdcd4d8f"
      },
      "outputs": [
        {
          "name": "stdout",
          "output_type": "stream",
          "text": [
            "Escenario (b): Estadístico = 1.0000, Valor-p = 2.2087606931995054e-59\n"
          ]
        }
      ],
      "source": [
        "# Escenario (b): fX(x) != fY(y)\n",
        "import numpy as np\n",
        "from scipy.stats import ks_2samp\n",
        "from scipy.stats import weibull_min\n",
        "\n",
        "# Parámetros de la distribución Weibull\n",
        "k = 2\n",
        "lam = 1\n",
        "# Generar 100 números aleatorios de una distribución Weibull\n",
        "y = weibull_min.rvs(k, scale=lam, size=100)\n",
        "\n",
        "#Distribucion inicial\n",
        "np.random.seed(1114)\n",
        "x = np.random.normal(loc=8, scale=2, size=100)\n",
        "\n",
        "statistic, pvalue = ks_2samp(x, y)\n",
        "print(f\"Escenario (b): Estadístico = {statistic:.4f}, Valor-p = {pvalue:}\")"
      ]
    },
    {
      "cell_type": "markdown",
      "id": "e107b3cb-b31a-4fe4-a09d-d95a0471c37e",
      "metadata": {
        "id": "e107b3cb-b31a-4fe4-a09d-d95a0471c37e"
      },
      "source": [
        "Por lo que hay suficiente evidencia estadística para rechazar la hipótesis nula( dado que p-value=2.2087606931995054e-59<0.05).Por lo que con un nivel de confianza del 95% podemos decir que $f_X(x) \\neq f_Y (y)$"
      ]
    },
    {
      "cell_type": "code",
      "execution_count": null,
      "id": "55e9f60e-2919-4607-ba25-a095f683a1e3",
      "metadata": {
        "id": "55e9f60e-2919-4607-ba25-a095f683a1e3"
      },
      "outputs": [],
      "source": []
    }
  ],
  "metadata": {
    "kernelspec": {
      "display_name": "Python 3 (ipykernel)",
      "language": "python",
      "name": "python3"
    },
    "language_info": {
      "codemirror_mode": {
        "name": "ipython",
        "version": 3
      },
      "file_extension": ".py",
      "mimetype": "text/x-python",
      "name": "python",
      "nbconvert_exporter": "python",
      "pygments_lexer": "ipython3",
      "version": "3.9.12"
    },
    "colab": {
      "provenance": [],
      "include_colab_link": true
    }
  },
  "nbformat": 4,
  "nbformat_minor": 5
}